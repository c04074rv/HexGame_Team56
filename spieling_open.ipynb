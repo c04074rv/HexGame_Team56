{
 "cells": [
  {
   "cell_type": "markdown",
   "metadata": {},
   "source": [
    "# Spieling with Open: Understanding openspiel\n",
    "\n",
    "Goal:\n",
    "\n",
    "- Building a script to resume training of an interrupted model, complete with Cache, Checkpoints, Actors, and Evaluator\n",
    "- Building a Pytorch equivalent of the AlphaZero algorithm, and connecting it to the tournament machine\n",
    "\n",
    "\n",
    "## Approach\n",
    "\n",
    "Important files;\n",
    "- open_spiel/python/algorithms/alpha_zero/model.py\n",
    "- open_spiel/python/algorithms/alpha_zero/alpha_zero.py\n",
    "- Go off of the command `python3 open_spiel/python/examples/mcts.py --game=tic_tac_toe --player1=human --player2=az --az_path <path to your checkpoint directory>`"
   ]
  },
  {
   "cell_type": "code",
   "execution_count": 3,
   "metadata": {},
   "outputs": [],
   "source": [
    "import pyspiel"
   ]
  },
  {
   "cell_type": "code",
   "execution_count": 4,
   "metadata": {},
   "outputs": [],
   "source": [
    "game = pyspiel.load_game(\"hex\")"
   ]
  },
  {
   "cell_type": "code",
   "execution_count": 5,
   "metadata": {},
   "outputs": [],
   "source": [
    "gs = game.new_initial_state()"
   ]
  },
  {
   "cell_type": "code",
   "execution_count": 14,
   "metadata": {},
   "outputs": [
    {
     "data": {
      "text/plain": [
       ". . . . . . . . . . . \n",
       " p . . . . . . . . . . \n",
       "  . x . . . . . . . . . \n",
       "   . . . . . . . . . . . \n",
       "    . . . . . . . . . . . \n",
       "     . . . . . . . . . . . \n",
       "      . . . . . . . . . . . \n",
       "       . . . . . . . . . . . \n",
       "        . . . . . . . . . . . \n",
       "         . . . . . . . . . . . \n",
       "          . . . . . . . . . . . "
      ]
     },
     "execution_count": 14,
     "metadata": {},
     "output_type": "execute_result"
    }
   ],
   "source": [
    "gs.apply_action(11)\n",
    "gs"
   ]
  },
  {
   "cell_type": "code",
   "execution_count": 15,
   "metadata": {},
   "outputs": [
    {
     "data": {
      "text/plain": [
       "[0,\n",
       " 1,\n",
       " 2,\n",
       " 3,\n",
       " 4,\n",
       " 5,\n",
       " 6,\n",
       " 7,\n",
       " 8,\n",
       " 9,\n",
       " 10,\n",
       " 12,\n",
       " 13,\n",
       " 14,\n",
       " 15,\n",
       " 16,\n",
       " 17,\n",
       " 18,\n",
       " 19,\n",
       " 20,\n",
       " 21,\n",
       " 22,\n",
       " 24,\n",
       " 25,\n",
       " 26,\n",
       " 27,\n",
       " 28,\n",
       " 29,\n",
       " 30,\n",
       " 31,\n",
       " 32,\n",
       " 33,\n",
       " 34,\n",
       " 35,\n",
       " 36,\n",
       " 37,\n",
       " 38,\n",
       " 39,\n",
       " 40,\n",
       " 41,\n",
       " 42,\n",
       " 43,\n",
       " 44,\n",
       " 45,\n",
       " 46,\n",
       " 47,\n",
       " 48,\n",
       " 49,\n",
       " 50,\n",
       " 51,\n",
       " 52,\n",
       " 53,\n",
       " 54,\n",
       " 55,\n",
       " 56,\n",
       " 57,\n",
       " 58,\n",
       " 59,\n",
       " 60,\n",
       " 61,\n",
       " 62,\n",
       " 63,\n",
       " 64,\n",
       " 65,\n",
       " 66,\n",
       " 67,\n",
       " 68,\n",
       " 69,\n",
       " 70,\n",
       " 71,\n",
       " 72,\n",
       " 73,\n",
       " 74,\n",
       " 75,\n",
       " 76,\n",
       " 77,\n",
       " 78,\n",
       " 79,\n",
       " 80,\n",
       " 81,\n",
       " 82,\n",
       " 83,\n",
       " 84,\n",
       " 85,\n",
       " 86,\n",
       " 87,\n",
       " 88,\n",
       " 89,\n",
       " 90,\n",
       " 91,\n",
       " 92,\n",
       " 93,\n",
       " 94,\n",
       " 95,\n",
       " 96,\n",
       " 97,\n",
       " 98,\n",
       " 99,\n",
       " 100,\n",
       " 101,\n",
       " 102,\n",
       " 103,\n",
       " 104,\n",
       " 105,\n",
       " 106,\n",
       " 107,\n",
       " 108,\n",
       " 109,\n",
       " 110,\n",
       " 111,\n",
       " 112,\n",
       " 113,\n",
       " 114,\n",
       " 115,\n",
       " 116,\n",
       " 117,\n",
       " 118,\n",
       " 119,\n",
       " 120]"
      ]
     },
     "execution_count": 15,
     "metadata": {},
     "output_type": "execute_result"
    }
   ],
   "source": [
    "gs.legal_actions()"
   ]
  },
  {
   "cell_type": "code",
   "execution_count": 6,
   "metadata": {},
   "outputs": [
    {
     "data": {
      "text/plain": [
       ". . . . . . . . . . . \n",
       " . . . . . . . . . . . \n",
       "  . . . . . . . . . . . \n",
       "   . . . . . . . . . . . \n",
       "    . . . . . . . . . . . \n",
       "     . . . . . . . . . . . \n",
       "      . . . . . . . . . . . \n",
       "       . . . . . . . . . . . \n",
       "        . . . . . . . . . . . \n",
       "         . . . . . . . . . . . \n",
       "          . . . . . . . . . . . "
      ]
     },
     "execution_count": 6,
     "metadata": {},
     "output_type": "execute_result"
    }
   ],
   "source": [
    "gs"
   ]
  },
  {
   "cell_type": "code",
   "execution_count": 16,
   "metadata": {},
   "outputs": [
    {
     "data": {
      "text/plain": [
       "['__class__',\n",
       " '__delattr__',\n",
       " '__dir__',\n",
       " '__doc__',\n",
       " '__eq__',\n",
       " '__format__',\n",
       " '__ge__',\n",
       " '__getattribute__',\n",
       " '__getstate__',\n",
       " '__gt__',\n",
       " '__hash__',\n",
       " '__init__',\n",
       " '__init_subclass__',\n",
       " '__le__',\n",
       " '__lt__',\n",
       " '__module__',\n",
       " '__ne__',\n",
       " '__new__',\n",
       " '__reduce__',\n",
       " '__reduce_ex__',\n",
       " '__repr__',\n",
       " '__setattr__',\n",
       " '__setstate__',\n",
       " '__sizeof__',\n",
       " '__str__',\n",
       " '__subclasshook__',\n",
       " 'action_to_string',\n",
       " 'deserialize_state',\n",
       " 'get_parameters',\n",
       " 'get_type',\n",
       " 'information_state_tensor_layout',\n",
       " 'information_state_tensor_shape',\n",
       " 'information_state_tensor_size',\n",
       " 'make_observer',\n",
       " 'max_chance_nodes_in_history',\n",
       " 'max_chance_outcomes',\n",
       " 'max_game_length',\n",
       " 'max_history_length',\n",
       " 'max_move_number',\n",
       " 'max_utility',\n",
       " 'min_utility',\n",
       " 'new_initial_state',\n",
       " 'new_initial_state_for_population',\n",
       " 'new_initial_states',\n",
       " 'num_distinct_actions',\n",
       " 'num_players',\n",
       " 'observation_tensor_layout',\n",
       " 'observation_tensor_shape',\n",
       " 'observation_tensor_size',\n",
       " 'policy_tensor_shape',\n",
       " 'utility_sum']"
      ]
     },
     "execution_count": 16,
     "metadata": {},
     "output_type": "execute_result"
    }
   ],
   "source": [
    "dir(game)"
   ]
  },
  {
   "cell_type": "code",
   "execution_count": null,
   "metadata": {},
   "outputs": [],
   "source": []
  }
 ],
 "metadata": {
  "kernelspec": {
   "display_name": "openspiel",
   "language": "python",
   "name": "python3"
  },
  "language_info": {
   "codemirror_mode": {
    "name": "ipython",
    "version": 3
   },
   "file_extension": ".py",
   "mimetype": "text/x-python",
   "name": "python",
   "nbconvert_exporter": "python",
   "pygments_lexer": "ipython3",
   "version": "3.8.15"
  },
  "orig_nbformat": 4,
  "vscode": {
   "interpreter": {
    "hash": "b2d4e84c060b36508808479b743b3d47ba74992f12bf3977b1959274bc0a2de9"
   }
  }
 },
 "nbformat": 4,
 "nbformat_minor": 2
}
